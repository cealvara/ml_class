{
 "cells": [
  {
   "cell_type": "markdown",
   "metadata": {},
   "source": [
    "# KNN and decision tree classification\n",
    "In this lab, we will work with the DonorChoose.org dataset from KDD Cup 14 to predict whether a funding request is exciting or not. Keep your work organized as we will use the same data and problem in the following labs as well. "
   ]
  },
  {
   "cell_type": "markdown",
   "metadata": {},
   "source": [
    "## Download the datasets from the KDD website\n",
    "The first step is to download the dataset from [Kaggle website](http://www.kaggle.com/c/kdd-cup-2014-predicting-excitement-at-donors-choose/data). You can look at the definition of 'is exciting' as well as some explanation of the data fields in the given link. In this lab, we will use Python, Pandas, numpy and scikit-learn."
   ]
  },
  {
   "cell_type": "code",
   "execution_count": 10,
   "metadata": {
    "collapsed": false
   },
   "outputs": [
    {
     "name": "stdout",
     "output_type": "stream",
     "text": [
      "Populating the interactive namespace from numpy and matplotlib\n"
     ]
    }
   ],
   "source": [
    "import pandas as pd\n",
    "import pylab as pl\n",
    "import numpy as np\n",
    "%pylab inline"
   ]
  },
  {
   "cell_type": "markdown",
   "metadata": {},
   "source": [
    "First, check the size of the datasets:"
   ]
  },
  {
   "cell_type": "code",
   "execution_count": 35,
   "metadata": {
    "collapsed": false
   },
   "outputs": [
    {
     "name": "stdout",
     "output_type": "stream",
     "text": [
      "664098\n",
      "Index(['projectid', 'teacher_acctid', 'schoolid', 'school_ncesid',\n",
      "       'school_latitude', 'school_longitude', 'school_city', 'school_state',\n",
      "       'school_zip', 'school_metro', 'school_district', 'school_county',\n",
      "       'school_charter', 'school_magnet', 'school_year_round', 'school_nlns',\n",
      "       'school_kipp', 'school_charter_ready_promise', 'teacher_prefix',\n",
      "       'teacher_teach_for_america', 'teacher_ny_teaching_fellow',\n",
      "       'primary_focus_subject', 'primary_focus_area',\n",
      "       'secondary_focus_subject', 'secondary_focus_area', 'resource_type',\n",
      "       'poverty_level', 'grade_level', 'fulfillment_labor_materials',\n",
      "       'total_price_excluding_optional_support',\n",
      "       'total_price_including_optional_support', 'students_reached',\n",
      "       'eligible_double_your_impact_match', 'eligible_almost_home_match',\n",
      "       'date_posted'],\n",
      "      dtype='object')\n",
      "619326\n",
      "Index(['projectid', 'is_exciting', 'at_least_1_teacher_referred_donor',\n",
      "       'fully_funded', 'at_least_1_green_donation', 'great_chat',\n",
      "       'three_or_more_non_teacher_referred_donors',\n",
      "       'one_non_teacher_referred_donor_giving_100_plus',\n",
      "       'donation_from_thoughtful_donor', 'great_messages_proportion',\n",
      "       'teacher_referred_count', 'non_teacher_referred_count'],\n",
      "      dtype='object')\n"
     ]
    }
   ],
   "source": [
    "# example:\n",
    "projects  = pd.read_csv('./data/projects.csv')\n",
    "print(projects.shape[0])\n",
    "print(projects.columns)\n",
    "\n",
    "outcomes  = pd.read_csv('./data/outcomes.csv')\n",
    "print(outcomes.shape[0])\n",
    "print(outcomes.columns)\n"
   ]
  },
  {
   "cell_type": "markdown",
   "metadata": {},
   "source": [
    "The dataset contains\n",
    "- projects    :  664098  \n",
    "- resources  :  3667217\n",
    "- essays       :  664098\n",
    "- outcomes  :   619326\n",
    "- donations  :   3097989\n",
    "\n"
   ]
  },
  {
   "cell_type": "markdown",
   "metadata": {},
   "source": [
    "## plotting the data\n",
    "Plot the exciting projects based on their date. See whether there is any interesting result there."
   ]
  },
  {
   "cell_type": "code",
   "execution_count": 42,
   "metadata": {
    "collapsed": false
   },
   "outputs": [],
   "source": [
    "data = pd.merge(outcomes, projects, on='projectid')\n",
    "\n",
    "data.date_posted = pd.to_datetime(data.date_posted)\n",
    "\n",
    "exciting = data[data['is_exciting'] == 't']"
   ]
  },
  {
   "cell_type": "code",
   "execution_count": 43,
   "metadata": {
    "collapsed": false
   },
   "outputs": [
    {
     "data": {
      "text/plain": [
       "36710"
      ]
     },
     "execution_count": 43,
     "metadata": {},
     "output_type": "execute_result"
    }
   ],
   "source": [
    "len(exciting)"
   ]
  },
  {
   "cell_type": "code",
   "execution_count": 51,
   "metadata": {
    "collapsed": false
   },
   "outputs": [
    {
     "data": {
      "image/png": "[encoded data removed]",
      "text/plain": [
       "<matplotlib.figure.Figure at 0x7fec4b9ebba8>"
      ]
     },
     "metadata": {},
     "output_type": "display_data"
    }
   ],
   "source": [
    "from pandas import TimeGrouper\n",
    "\n",
    "num_exciting_projects = pd.DataFrame(exciting.groupby('date_posted').size().rename('counts'))\n",
    "\n",
    "num_projects_month = num_exciting_projects.groupby(TimeGrouper('M')).aggregate(np.sum)\n",
    "\n",
    "#making figure\n",
    "fig, ax = pl.subplots(1)\n",
    "ax.plot(num_projects_month.index, num_projects_month.counts)\n",
    "\n",
    "# rotate and align the tick labels so they look better\n",
    "fig.autofmt_xdate()\n",
    "\n",
    "# # use a more precise date string for the x axis locations in the\n",
    "# # toolbar\n",
    "# import matplotlib.dates as mdates\n",
    "# ax.fmt_xdata = mdates.DateFormatter('%Y-%m-%d')\n",
    "# plt.title('fig.autofmt_xdate fixes the labels')"
   ]
  },
  {
   "cell_type": "code",
   "execution_count": 59,
   "metadata": {
    "collapsed": false
   },
   "outputs": [
    {
     "name": "stdout",
     "output_type": "stream",
     "text": [
      "             counts\n",
      "date_posted        \n",
      "2010-12-31     5099\n",
      "2011-12-31     9578\n",
      "2012-12-31     7755\n",
      "2013-12-31    14278\n"
     ]
    },
    {
     "name": "stderr",
     "output_type": "stream",
     "text": [
      "/usr/local/lib/python3.4/dist-packages/matplotlib/ticker.py:981: UserWarning: 'set_params()' not defined for locator of type <class 'pandas.tseries.converter.PandasAutoDateLocator'>\n",
      "  str(type(self)))\n"
     ]
    },
    {
     "data": {
      "image/png": "[encoded data removed]",
      "text/plain": [
       "<matplotlib.figure.Figure at 0x7fec9f9d9160>"
      ]
     },
     "metadata": {},
     "output_type": "display_data"
    }
   ],
   "source": [
    "num_projects_year = num_exciting_projects.groupby(TimeGrouper('A')).aggregate(np.sum)\n",
    "print(num_projects_year)\n",
    "fig, ax = pl.subplots(1)\n",
    "ax.plot(num_projects_year.index, num_projects_year.counts)\n",
    "ax.locator_params(nbins=40, axis='x')\n",
    "fig.autofmt_xdate()"
   ]
  },
  {
   "cell_type": "markdown",
   "metadata": {},
   "source": [
    "You will see that there is no exciting projects before 2010-04-14. This can effect the accuracy of prediction. The reason is DonorsChoose.org simply did not keep track of some of the requirements needed to decide 'is_exciting'. How can you avoid this issue in your prediction?"
   ]
  },
  {
   "cell_type": "markdown",
   "metadata": {},
   "source": [
    "## Load the CSV files into Pandas and preprocess as needed\n",
    "Let us stick to projects.csv and outcomes.csv for the tasks in this lab session for now. Check whether there are Null instances or other problems in your data  you should take care of."
   ]
  },
  {
   "cell_type": "code",
   "execution_count": null,
   "metadata": {
    "collapsed": true
   },
   "outputs": [],
   "source": []
  },
  {
   "cell_type": "markdown",
   "metadata": {},
   "source": [
    "## Prediction tasks\n",
    "In this lab we ask you to work on the following two prediction tasks. The first one is a binary classfication and the second one is a multi-class classification problem."
   ]
  },
  {
   "cell_type": "markdown",
   "metadata": {},
   "source": [
    "### Task 1\n",
    "Predict whether a project is exciting by picking the features you chose from the dataset. Feel free to make new features from the existing ones."
   ]
  },
  {
   "cell_type": "markdown",
   "metadata": {},
   "source": [
    "### Task 2\n",
    "Predict the Poverty level of the school. Which feature would you pick from the dataset?"
   ]
  },
  {
   "cell_type": "markdown",
   "metadata": {},
   "source": [
    "## Choose your features\n",
    "For each task, choose some of the data fields from projects.csv that you think could be used as useful features for predicting the 'is-exciting' and poverty level outcome."
   ]
  },
  {
   "cell_type": "code",
   "execution_count": null,
   "metadata": {
    "collapsed": true
   },
   "outputs": [],
   "source": []
  },
  {
   "cell_type": "markdown",
   "metadata": {},
   "source": [
    "## Form your train and test set\n",
    "Separate a portion of your data as train and the other portion as test set to work with. Keep these two sets fixed for all of your experiments and choose them randomly. You can use the following:"
   ]
  },
  {
   "cell_type": "code",
   "execution_count": null,
   "metadata": {
    "collapsed": true
   },
   "outputs": [],
   "source": [
    "from sklearn.cross_validation import train_test_split"
   ]
  },
  {
   "cell_type": "markdown",
   "metadata": {},
   "source": [
    "## Train your models and test on your test data\n",
    "\n",
    "### First step\n",
    "\n",
    "Train KNN and Decision Tree models with your training set for each task. Choose some initial parameters for your models and see how they perform on the test set for these tasks."
   ]
  },
  {
   "cell_type": "code",
   "execution_count": null,
   "metadata": {
    "collapsed": true
   },
   "outputs": [],
   "source": [
    "# You may need to import these:\n",
    "from sklearn.neighbors import KNeighborsClassifier\n",
    "from sklearn import tree"
   ]
  },
  {
   "cell_type": "markdown",
   "metadata": {},
   "source": [
    "## Explore the models you just built"
   ]
  },
  {
   "cell_type": "markdown",
   "metadata": {},
   "source": [
    "### kNN\n",
    "For kNN, take a few points and retrieve neirest neighbors for each of them? Do the neighbors make sense? \n",
    "Would you change the distance function to get \"better\" neighbors?"
   ]
  },
  {
   "cell_type": "code",
   "execution_count": null,
   "metadata": {
    "collapsed": true
   },
   "outputs": [],
   "source": []
  },
  {
   "cell_type": "markdown",
   "metadata": {},
   "source": [
    "### Decision Trees\n",
    "For Decision Trees, can you visualize or print out the tree? Try using sklearn.tree.export_graphviz()"
   ]
  },
  {
   "cell_type": "markdown",
   "metadata": {},
   "source": []
  },
  {
   "cell_type": "markdown",
   "metadata": {},
   "source": [
    "## How do these models change as you vary the parameters?\n",
    "\n",
    "### For kNN, see what happens when:\n",
    "- you do or do not scale/normalize features\n",
    "- you vary k from very small to very large\n",
    "- you vary distance metrics\n",
    "- you vary distance weighting"
   ]
  },
  {
   "cell_type": "code",
   "execution_count": null,
   "metadata": {
    "collapsed": true
   },
   "outputs": [],
   "source": []
  },
  {
   "cell_type": "markdown",
   "metadata": {},
   "source": [
    "### For decision trees, try similar ideas:\n",
    "- vary pruning and stopping strategies, use the following parameters:\n",
    "    - min_impurity_split\n",
    "    - min_samples_split\n",
    "- vary splitting criteria, use the following parameters:\n",
    "    - max_depth\n",
    "    - mean_samples_leaf\n",
    "    - max_leaf_nodes\n",
    "    \n",
    "Check the reference below for description of these parameters"
   ]
  },
  {
   "cell_type": "code",
   "execution_count": null,
   "metadata": {
    "collapsed": true
   },
   "outputs": [],
   "source": []
  },
  {
   "cell_type": "markdown",
   "metadata": {},
   "source": [
    "## Operationalizing this search through the parameter space\n",
    "\n",
    "Can you put all all of these variations in a nested for loop and run all of them and look at the performance of the models?"
   ]
  },
  {
   "cell_type": "code",
   "execution_count": null,
   "metadata": {
    "collapsed": true
   },
   "outputs": [],
   "source": []
  },
  {
   "cell_type": "markdown",
   "metadata": {},
   "source": [
    "## References\n",
    "http://scikit-learn.org/stable/auto_examples/neighbors/plot_classification.html#sphx-glr-auto-examples-neighbors-plot-classification-py\n",
    "\n",
    "http://scikit-learn.org/stable/modules/tree.html\n",
    "\n",
    "Different parameters for decision tree:\n",
    "http://scikit-learn.org/stable/modules/generated/sklearn.tree.DecisionTreeClassifier.html#sklearn.tree.DecisionTreeClassifier"
   ]
  },
  {
   "cell_type": "code",
   "execution_count": null,
   "metadata": {
    "collapsed": true
   },
   "outputs": [],
   "source": []
  }
 ],
 "metadata": {
  "kernelspec": {
   "display_name": "Python 3",
   "language": "python",
   "name": "python3"
  },
  "language_info": {
   "codemirror_mode": {
    "name": "ipython",
    "version": 3
   },
   "file_extension": ".py",
   "mimetype": "text/x-python",
   "name": "python",
   "nbconvert_exporter": "python",
   "pygments_lexer": "ipython3",
   "version": "3.4.3"
  }
 },
 "nbformat": 4,
 "nbformat_minor": 0
}
